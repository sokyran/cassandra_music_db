{
 "cells": [
  {
   "cell_type": "markdown",
   "metadata": {},
   "source": [
    "# Part I. ETL Pipeline for Pre-Processing the Files"
   ]
  },
  {
   "cell_type": "markdown",
   "metadata": {},
   "source": [
    "#### Import Python packages "
   ]
  },
  {
   "cell_type": "code",
   "execution_count": 2,
   "metadata": {},
   "outputs": [],
   "source": [
    "# Import Python packages \n",
    "import pandas as pd\n",
    "import cassandra\n",
    "import re\n",
    "import os\n",
    "import glob\n",
    "import numpy as np\n",
    "import json\n",
    "import csv"
   ]
  },
  {
   "cell_type": "markdown",
   "metadata": {},
   "source": [
    "#### Creating list of filepaths to process original event csv data files"
   ]
  },
  {
   "cell_type": "code",
   "execution_count": 5,
   "metadata": {},
   "outputs": [
    {
     "output_type": "stream",
     "name": "stdout",
     "text": "c:\\Python\\cassandra_music_db\n"
    }
   ],
   "source": [
    "# checking your current working directory\n",
    "print(os.getcwd())\n",
    "\n",
    "# Get your current folder and subfolder event data\n",
    "filepath = os.getcwd() + '/event_data'\n",
    "\n",
    "# Create a for loop to create a list of files and collect each filepath\n",
    "for root, dirs, files in os.walk(filepath):\n",
    "    \n",
    "# join the file path and roots with the subdirectories using glob\n",
    "    file_path_list = glob.glob(os.path.join(root,'*'))\n",
    "    #print(file_path_list)"
   ]
  },
  {
   "cell_type": "code",
   "execution_count": 6,
   "metadata": {
    "tags": [
     "outputPrepend",
     "outputPrepend",
     "outputPrepend",
     "outputPrepend",
     "outputPrepend",
     "outputPrepend"
    ]
   },
   "outputs": [
    {
     "output_type": "stream",
     "name": "stdout",
     "text": "', 'PUT', 'NextSong', '1.54047E+12', '977', 'Feel It', '200', '1.54359E+12', '85']\n['Sugababes', 'Logged In', 'Kinsley', 'F', '33', 'Young', '275.93098', 'paid', 'Red Bluff, CA', 'PUT', 'NextSong', '1.54047E+12', '977', 'Overload', '200', '1.54359E+12', '85']\n['Gyptian', 'Logged In', 'Rylan', 'M', '13', 'George', '233.09016', 'paid', 'Birmingham-Hoover, AL', 'PUT', 'NextSong', '1.54102E+12', '1076', 'Hold You', '200', '1.54359E+12', '16']\n['Zion / Akon', 'Logged In', 'Rylan', 'M', '14', 'George', '233.19465', 'paid', 'Birmingham-Hoover, AL', 'PUT', 'NextSong', '1.54102E+12', '1076', 'The Way She Moves', '200', '1.54359E+12', '16']\n['Transvision Vamp', 'Logged In', 'Rylan', 'M', '15', 'George', '209.91955', 'paid', 'Birmingham-Hoover, AL', 'PUT', 'NextSong', '1.54102E+12', '1076', 'I Want Your Love', '200', '1.54359E+12', '16']\n['Ry Cooder', 'Logged In', 'Chloe', 'F', '37', 'Cuevas', '201.56036', 'paid', 'San Francisco-Oakland-Hayward, CA', 'PUT', 'NextSong', '1.54094E+12', '1096', 'Corrido de Boxeo', '200', '1.54359E+12', '49']\n['The Pussycat Dolls', 'Logged In', 'Rylan', 'M', '16', 'George', '245.18485', 'paid', 'Birmingham-Hoover, AL', 'PUT', 'NextSong', '1.54102E+12', '1076', 'When I Grow Up', '200', '1.54359E+12', '16']\n['Coldplay', 'Logged In', 'Chloe', 'F', '38', 'Cuevas', '268.30322', 'paid', 'San Francisco-Oakland-Hayward, CA', 'PUT', 'NextSong', '1.54094E+12', '1096', 'Yellow', '200', '1.54359E+12', '49']\n['Forever The Sickest Kids', 'Logged In', 'Rylan', 'M', '17', 'George', '169.482', 'paid', 'Birmingham-Hoover, AL', 'PUT', 'NextSong', '1.54102E+12', '1076', 'She Likes (Bittersweet Love)', '200', '1.54359E+12', '16']\n['Lil Wayne / Blaque / Mannie Fresh', 'Logged In', 'Chloe', 'F', '39', 'Cuevas', '255.34649', 'paid', 'San Francisco-Oakland-Hayward, CA', 'PUT', 'NextSong', '1.54094E+12', '1096', 'Believe That', '200', '1.54359E+12', '49']\n['Dragonforce', 'Logged In', 'Rylan', 'M', '18', 'George', '441.02485', 'paid', 'Birmingham-Hoover, AL', 'PUT', 'NextSong', '1.54102E+12', '1076', 'Through The Fire And Flames (Album Version)', '200', '1.54359E+12', '16']\n['Jason Mraz & Colbie Caillat', 'Logged In', 'Chloe', 'F', '40', 'Cuevas', '189.6224', 'paid', 'San Francisco-Oakland-Hayward, CA', 'PUT', 'NextSong', '1.54094E+12', '1096', 'Lucky (Album Version)', '200', '1.54359E+12', '49']\n['Pixies', 'Logged In', 'Chloe', 'F', '41', 'Cuevas', '181.13261', 'paid', 'San Francisco-Oakland-Hayward, CA', 'PUT', 'NextSong', '1.54094E+12', '1096', 'Is She Weird', '200', '1.54359E+12', '49']\n['Eminem', 'Logged In', 'Rylan', 'M', '19', 'George', '251.55873', 'paid', 'Birmingham-Hoover, AL', 'PUT', 'NextSong', '1.54102E+12', '1076', 'Without Me', '200', '1.54359E+12', '16']\n['Buju Banton', 'Logged In', 'Chloe', 'F', '42', 'Cuevas', '232.48934', 'paid', 'San Francisco-Oakland-Hayward, CA', 'PUT', 'NextSong', '1.54094E+12', '1096', 'Cry No More', '200', '1.54359E+12', '49']\n['Cage The Elephant', 'Logged In', 'Rylan', 'M', '20', 'George', '196.38812', 'paid', 'Birmingham-Hoover, AL', 'PUT', 'NextSong', '1.54102E+12', '1076', 'Lotus', '200', '1.54359E+12', '16']\n['Barry Tuckwell/Academy of St Martin-in-the-Fields/Sir Neville Marriner', 'Logged In', 'Chloe', 'F', '43', 'Cuevas', '277.15873', 'paid', 'San Francisco-Oakland-Hayward, CA', 'PUT', 'NextSong', '1.54094E+12', '1096', 'Horn Concerto No. 4 in E flat K495: II. Romance (Andante cantabile)', '200', '1.54359E+12', '49']\n['Ste Strausz', 'Logged In', 'Rylan', 'M', '21', 'George', '285.36118', 'paid', 'Birmingham-Hoover, AL', 'PUT', 'NextSong', '1.54102E+12', '1076', 'Le Million', '200', '1.54359E+12', '16']\n['Coldplay', 'Logged In', 'Chloe', 'F', '44', 'Cuevas', '228.62322', 'paid', 'San Francisco-Oakland-Hayward, CA', 'PUT', 'NextSong', '1.54094E+12', '1096', 'Only Superstition', '200', '1.54359E+12', '49']\n['Joe Christmas', 'Logged In', 'Chloe', 'F', '0', 'Roth', '185.7824', 'free', 'Indianapolis-Carmel-Anderson, IN', 'PUT', 'NextSong', '1.5407E+12', '1059', 'Bedroom Suite', '200', '1.54359E+12', '78']\n['Bright Eyes', 'Logged In', 'Rylan', 'M', '22', 'George', '313.23383', 'paid', 'Birmingham-Hoover, AL', 'PUT', 'NextSong', '1.54102E+12', '1076', 'A New Arrangement', '200', '1.54359E+12', '16']\n['Paramore', 'Logged In', 'Chloe', 'F', '1', 'Roth', '267.65016', 'free', 'Indianapolis-Carmel-Anderson, IN', 'PUT', 'NextSong', '1.5407E+12', '1059', 'The Only Exception (Album Version)', '200', '1.54359E+12', '78']\n['J. Karjalainen & Mustat Lasit', 'Logged In', 'Chloe', 'F', '45', 'Cuevas', '336.74404', 'paid', 'San Francisco-Oakland-Hayward, CA', 'PUT', 'NextSong', '1.54094E+12', '1096', 'Sinisten tÃ\\x83Â¤htien alla', '200', '1.54359E+12', '49']\n['', 'Logged In', 'Jayden', 'M', '0', 'Fox', '', 'free', 'New Orleans-Metairie, LA', 'GET', 'Home', '1.54103E+12', '1108', '', '200', '1.54359E+12', '101']\n['Philip Glass', 'Logged In', 'Rylan', 'M', '23', 'George', '368.40444', 'paid', 'Birmingham-Hoover, AL', 'PUT', 'NextSong', '1.54102E+12', '1076', 'Knee 2', '200', '1.5436E+12', '16']\n['Alliance Ethnik', 'Logged In', 'Chloe', 'F', '46', 'Cuevas', '195.94404', 'paid', 'San Francisco-Oakland-Hayward, CA', 'PUT', 'NextSong', '1.54094E+12', '1096', 'SinceritÃ\\x83Â© Et Jalousie', '200', '1.5436E+12', '49']\n['Mew', 'Logged In', 'Rylan', 'M', '24', 'George', '167.75791', 'paid', 'Birmingham-Hoover, AL', 'PUT', 'NextSong', '1.54102E+12', '1076', 'Her Voice Is Beyond Her Years', '200', '1.5436E+12', '16']\n['', 'Logged In', 'Chloe', 'F', '0', 'Cuevas', '', 'paid', 'San Francisco-Oakland-Hayward, CA', 'GET', 'Home', '1.54094E+12', '1114', '', '200', '1.5436E+12', '49']\n['Ive Mendes', 'Logged In', 'Rylan', 'M', '25', 'George', '238.94159', 'paid', 'Birmingham-Hoover, AL', 'PUT', 'NextSong', '1.54102E+12', '1076', 'If You Leave Me Now', '200', '1.5436E+12', '16']\n['', 'Logged In', 'Bronson', 'M', '0', 'Harris', '', 'free', 'Eugene, OR', 'GET', 'Home', '1.54091E+12', '1026', '', '200', '1.5436E+12', '33']\n['Alliance Ethnik', 'Logged In', 'Bronson', 'M', '1', 'Harris', '195.94404', 'free', 'Eugene, OR', 'PUT', 'NextSong', '1.54091E+12', '1026', 'SinceritÃ\\x83Â© Et Jalousie', '200', '1.5436E+12', '33']\n['the bird and the bee', 'Logged In', 'Rylan', 'M', '26', 'George', '193.802', 'paid', 'Birmingham-Hoover, AL', 'PUT', 'NextSong', '1.54102E+12', '1076', 'Diamond Dave', '200', '1.5436E+12', '16']\n['Common / Sadat X', 'Logged In', 'Bronson', 'M', '2', 'Harris', '256.20853', 'free', 'Eugene, OR', 'PUT', 'NextSong', '1.54091E+12', '1026', '1999', '200', '1.5436E+12', '33']\n['', 'Logged In', 'Bronson', 'M', '3', 'Harris', '', 'free', 'Eugene, OR', 'GET', 'Upgrade', '1.54091E+12', '1026', '', '200', '1.5436E+12', '33']\n['', 'Logged In', 'Bronson', 'M', '4', 'Harris', '', 'free', 'Eugene, OR', 'GET', 'Upgrade', '1.54091E+12', '1026', '', '200', '1.5436E+12', '33']\n['Alanis Morissette', 'Logged In', 'Rylan', 'M', '27', 'George', '245.15873', 'paid', 'Birmingham-Hoover, AL', 'PUT', 'NextSong', '1.54102E+12', '1076', 'King Of Pain (Live/Unplugged Version)', '200', '1.5436E+12', '16']\n['', 'Logged In', 'Bronson', 'M', '5', 'Harris', '', 'free', 'Eugene, OR', 'GET', 'Home', '1.54091E+12', '1026', '', '200', '1.5436E+12', '33']\n['', 'Logged In', 'Bronson', 'M', '6', 'Harris', '', 'free', 'Eugene, OR', 'GET', 'Upgrade', '1.54091E+12', '1026', '', '200', '1.5436E+12', '33']\n['Skillet', 'Logged In', 'Bronson', 'M', '7', 'Harris', '233.32526', 'free', 'Eugene, OR', 'PUT', 'NextSong', '1.54091E+12', '1026', 'Rebirthing (Album Version)', '200', '1.5436E+12', '33']\n['', 'Logged In', 'Bronson', 'M', '8', 'Harris', '', 'free', 'Eugene, OR', 'PUT', 'Logout', '1.54091E+12', '1026', '', '307', '1.5436E+12', '33']\n['James Galway;Julian Lee', 'Logged In', 'Rylan', 'M', '28', 'George', '218.67057', 'paid', 'Birmingham-Hoover, AL', 'PUT', 'NextSong', '1.54102E+12', '1076', 'Beauty and the Beast', '200', '1.5436E+12', '16']\n['', 'Logged Out', '', '', '9', '', '', 'free', '', 'GET', 'Home', '', '1026', '', '200', '1.5436E+12', '']\n['Drop Dead_ Gorgeous', 'Logged In', 'Rylan', 'M', '29', 'George', '156.70812', 'paid', 'Birmingham-Hoover, AL', 'PUT', 'NextSong', '1.54102E+12', '1076', 'Dressed For Friend Requests (Album Version)', '200', '1.5436E+12', '16']\n['Dwight Yoakam', 'Logged In', 'Rylan', 'M', '30', 'George', '239.3073', 'paid', 'Birmingham-Hoover, AL', 'PUT', 'NextSong', '1.54102E+12', '1076', \"You're The One\", '200', '1.5436E+12', '16']\n['Trouble', 'Logged In', 'Rylan', 'M', '31', 'George', '205.11302', 'paid', 'Birmingham-Hoover, AL', 'PUT', 'NextSong', '1.54102E+12', '1076', \"Tuesday's Child\", '200', '1.5436E+12', '16']\n['', 'Logged In', 'Rylan', 'M', '32', 'George', '', 'paid', 'Birmingham-Hoover, AL', 'GET', 'Downgrade', '1.54102E+12', '1076', '', '200', '1.5436E+12', '16']\n['OneRepublic', 'Logged In', 'Rylan', 'M', '33', 'George', '237.97506', 'paid', 'Birmingham-Hoover, AL', 'PUT', 'NextSong', '1.54102E+12', '1076', 'All The Right Moves', '200', '1.5436E+12', '16']\n['Switchblade Symphony', 'Logged In', 'Rylan', 'M', '34', 'George', '259.5522', 'paid', 'Birmingham-Hoover, AL', 'PUT', 'NextSong', '1.54102E+12', '1076', 'Wicked', '200', '1.5436E+12', '16']\n['Sharooz', 'Logged In', 'Rylan', 'M', '35', 'George', '234.05669', 'paid', 'Birmingham-Hoover, AL', 'PUT', 'NextSong', '1.54102E+12', '1076', 'My Distressor 40Khz ReRub Mix', '200', '1.5436E+12', '16']\n['Explosions In The Sky', 'Logged In', 'Rylan', 'M', '36', 'George', '522.9971', 'paid', 'Birmingham-Hoover, AL', 'PUT', 'NextSong', '1.54102E+12', '1076', 'Six Days At The Bottom Of The Ocean', '200', '1.5436E+12', '16']\n['', 'Logged In', 'Austin', 'M', '0', 'Rosales', '', 'free', 'New York-Newark-Jersey City, NY-NJ-PA', 'GET', 'Home', '1.54106E+12', '1101', '', '200', '1.5436E+12', '12']\n['Emmylou Harris', 'Logged In', 'Chloe', 'F', '1', 'Cuevas', '194.63791', 'paid', 'San Francisco-Oakland-Hayward, CA', 'PUT', 'NextSong', '1.54094E+12', '1114', 'Little Bird', '200', '1.5436E+12', '49']\n['Jack Johnson', 'Logged In', 'Chloe', 'F', '2', 'Cuevas', '153.67791', 'paid', 'San Francisco-Oakland-Hayward, CA', 'PUT', 'NextSong', '1.54094E+12', '1114', 'The Horizon Has Been Defeated', '200', '1.5436E+12', '49']\n['Radiohead', 'Logged In', 'Rylan', 'M', '37', 'George', '249.93914', 'paid', 'Birmingham-Hoover, AL', 'PUT', 'NextSong', '1.54102E+12', '1076', 'Everything In Its Right Place', '200', '1.5436E+12', '16']\n['Andrew Bird', 'Logged In', 'Chloe', 'F', '3', 'Cuevas', '215.87546', 'paid', 'San Francisco-Oakland-Hayward, CA', 'PUT', 'NextSong', '1.54094E+12', '1114', 'Heretics', '200', '1.5436E+12', '49']\n['Metallica', 'Logged In', 'Rylan', 'M', '38', 'George', '380.21179', 'paid', 'Birmingham-Hoover, AL', 'PUT', 'NextSong', '1.54102E+12', '1076', 'Sabbra Cadabra', '200', '1.5436E+12', '16']\n['Lonnie Gordon', 'Logged In', 'Chloe', 'F', '4', 'Cuevas', '181.21098', 'paid', 'San Francisco-Oakland-Hayward, CA', 'PUT', 'NextSong', '1.54094E+12', '1114', 'Catch You Baby (Steve Pitron & Max Sanna Radio Edit)', '200', '1.5436E+12', '49']\n['Dropkick Murphys', 'Logged In', 'Chloe', 'F', '5', 'Cuevas', '167.73179', 'paid', 'San Francisco-Oakland-Hayward, CA', 'PUT', 'NextSong', '1.54094E+12', '1114', 'Shattered', '200', '1.5436E+12', '49']\n['Eric B. & Rakim', 'Logged In', 'Rylan', 'M', '39', 'George', '240.32608', 'paid', 'Birmingham-Hoover, AL', 'PUT', 'NextSong', '1.54102E+12', '1076', 'As The Rhyme Goes On', '200', '1.5436E+12', '16']\n['Dierks Bentley', 'Logged In', 'Chloe', 'F', '6', 'Cuevas', '223.242', 'paid', 'San Francisco-Oakland-Hayward, CA', 'PUT', 'NextSong', '1.54094E+12', '1114', 'Settle For A Slowdown', '200', '1.5436E+12', '49']\n['Regina Spektor', 'Logged In', 'Rylan', 'M', '40', 'George', '290.14159', 'paid', 'Birmingham-Hoover, AL', 'PUT', 'NextSong', '1.54102E+12', '1076', 'Daniel Cowman', '200', '1.5436E+12', '16']\n['Angelspit', 'Logged In', 'Chloe', 'F', '7', 'Cuevas', '241.94567', 'paid', 'San Francisco-Oakland-Hayward, CA', 'PUT', 'NextSong', '1.54094E+12', '1114', 'Make You Sin', '200', '1.5436E+12', '49']\n['Young Gunz / Beanie Sigel', 'Logged In', 'Chloe', 'F', '8', 'Cuevas', '292.44036', 'paid', 'San Francisco-Oakland-Hayward, CA', 'PUT', 'NextSong', '1.54094E+12', '1114', 'Roc U', '200', '1.5436E+12', '49']\n['DJ Dizzy', 'Logged In', 'Rylan', 'M', '41', 'George', '221.1522', 'paid', 'Birmingham-Hoover, AL', 'PUT', 'NextSong', '1.54102E+12', '1076', 'Sexy Bitch', '200', '1.5436E+12', '16']\n['Base Ball Bear', 'Logged In', 'Rylan', 'M', '42', 'George', '255.60771', 'paid', 'Birmingham-Hoover, AL', 'PUT', 'NextSong', '1.54102E+12', '1076', 'Sayonara-Nostalgia', '200', '1.5436E+12', '16']\n['Morcheeba', 'Logged In', 'Chloe', 'F', '9', 'Cuevas', '101.95546', 'paid', 'San Francisco-Oakland-Hayward, CA', 'PUT', 'NextSong', '1.54094E+12', '1114', 'In The Hands Of The Gods (Featuring Biz Markie)', '200', '1.5436E+12', '49']\n['Bitter:Sweet', 'Logged In', 'Chloe', 'F', '10', 'Cuevas', '194.16771', 'paid', 'San Francisco-Oakland-Hayward, CA', 'PUT', 'NextSong', '1.54094E+12', '1114', \"Don't Forget To Breathe\", '200', '1.5436E+12', '49']\n['Basshunter Feat. DJ Mental Theo\\x19s Bazzheadz', 'Logged In', 'Rylan', 'M', '43', 'George', '152.65914', 'paid', 'Birmingham-Hoover, AL', 'PUT', 'NextSong', '1.54102E+12', '1076', \"Now You're Gone\", '200', '1.5436E+12', '16']\n['BjÃ\\x83Â¶rk', 'Logged In', 'Chloe', 'F', '11', 'Cuevas', '348.57751', 'paid', 'San Francisco-Oakland-Hayward, CA', 'PUT', 'NextSong', '1.54094E+12', '1114', 'Undo', '200', '1.5436E+12', '49']\n['Rihanna', 'Logged In', 'Rylan', 'M', '44', 'George', '239.75138', 'paid', 'Birmingham-Hoover, AL', 'PUT', 'NextSong', '1.54102E+12', '1076', 'G4L', '200', '1.5436E+12', '16']\n['Evanescence', 'Logged In', 'Rylan', 'M', '45', 'George', '220.3424', 'paid', 'Birmingham-Hoover, AL', 'PUT', 'NextSong', '1.54102E+12', '1076', 'Hello', '200', '1.5436E+12', '16']\n['Mr. Vegas', 'Logged In', 'Chloe', 'F', '12', 'Cuevas', '240.69179', 'paid', 'San Francisco-Oakland-Hayward, CA', 'PUT', 'NextSong', '1.54094E+12', '1114', 'Tamale', '200', '1.5436E+12', '49']\n['Mischa Daniels', 'Logged In', 'Rylan', 'M', '46', 'George', '419.81342', 'paid', 'Birmingham-Hoover, AL', 'PUT', 'NextSong', '1.54102E+12', '1076', 'Another Place', '200', '1.5436E+12', '16']\n['The Menzingers', 'Logged In', 'Chloe', 'F', '13', 'Cuevas', '276.00934', 'paid', 'San Francisco-Oakland-Hayward, CA', 'PUT', 'NextSong', '1.54094E+12', '1114', 'Straight To Hell', '200', '1.5436E+12', '49']\n['Justin Timberlake', 'Logged In', 'Chloe', 'F', '14', 'Cuevas', '288.93995', 'paid', 'San Francisco-Oakland-Hayward, CA', 'PUT', 'NextSong', '1.54094E+12', '1114', 'Cry Me A River', '200', '1.5436E+12', '49']\n['Vilma Palma e Vampiros', 'Logged In', 'Rylan', 'M', '47', 'George', '338.18077', 'paid', 'Birmingham-Hoover, AL', 'PUT', 'NextSong', '1.54102E+12', '1076', 'Un Camino Hasta Vos', '200', '1.5436E+12', '16']\n['CCCP - Fedeli Alla Linea', 'Logged In', 'Chloe', 'F', '15', 'Cuevas', '329.66485', 'paid', 'San Francisco-Oakland-Hayward, CA', 'PUT', 'NextSong', '1.54094E+12', '1114', 'Sura (2008 Digital Remaster)', '200', '1.5436E+12', '49']\n['Kid Cudi / MGMT / Ratatat', 'Logged In', 'Rylan', 'M', '48', 'George', '295.67955', 'paid', 'Birmingham-Hoover, AL', 'PUT', 'NextSong', '1.54102E+12', '1076', 'Pursuit Of Happiness (nightmare)', '200', '1.5436E+12', '16']\n['Drake / Kanye West / Lil Wayne / Eminem', 'Logged In', 'Chloe', 'F', '16', 'Cuevas', '357.66812', 'paid', 'San Francisco-Oakland-Hayward, CA', 'PUT', 'NextSong', '1.54094E+12', '1114', 'Forever', '200', '1.5436E+12', '49']\n['A Day To Remember', 'Logged In', 'Rylan', 'M', '49', 'George', '247.64036', 'paid', 'Birmingham-Hoover, AL', 'PUT', 'NextSong', '1.54102E+12', '1076', 'Homesick [Acoustic]', '200', '1.5436E+12', '16']\n['T.I.', 'Logged In', 'Jayden', 'M', '0', 'Bell', '299.75465', 'free', 'Dallas-Fort Worth-Arlington, TX', 'PUT', 'NextSong', '1.54099E+12', '1085', 'Dead And Gone [feat. Justin Timberlake] (Explicit Album Version)', '200', '1.5436E+12', '91']\n['The Offspring', 'Logged In', 'Rylan', 'M', '50', 'George', '163.3171', 'paid', 'Birmingham-Hoover, AL', 'PUT', 'NextSong', '1.54102E+12', '1076', \"It'll Be a Long Time (Album Version)\", '200', '1.5436E+12', '16']\n['Jorge Gonzalez', 'Logged In', 'Chloe', 'F', '17', 'Cuevas', '272.14322', 'paid', 'San Francisco-Oakland-Hayward, CA', 'PUT', 'NextSong', '1.54094E+12', '1114', 'Esta Es Para Hacerte FÃ\\x83Â©liz', '200', '1.5436E+12', '49']\n['Sneaker Pimps', 'Logged In', 'Jayden', 'M', '1', 'Bell', '260.91057', 'free', 'Dallas-Fort Worth-Arlington, TX', 'PUT', 'NextSong', '1.54099E+12', '1085', 'Spin Spin Sugar', '200', '1.5436E+12', '91']\n['Escape The Fate', 'Logged In', 'Rylan', 'M', '51', 'George', '266.73587', 'paid', 'Birmingham-Hoover, AL', 'PUT', 'NextSong', '1.54102E+12', '1076', 'This War Is Ours (The Guillotine II)', '200', '1.5436E+12', '16']\n['Juanes', 'Logged In', 'Chloe', 'F', '18', 'Cuevas', '243.27791', 'paid', 'San Francisco-Oakland-Hayward, CA', 'PUT', 'NextSong', '1.54094E+12', '1114', 'La Vida Es Un Ratico', '200', '1.5436E+12', '49']\n['The Replacements', 'Logged In', 'Rylan', 'M', '52', 'George', '170.57914', 'paid', 'Birmingham-Hoover, AL', 'PUT', 'NextSong', '1.54102E+12', '1076', 'Never Mind', '200', '1.5436E+12', '16']\n['Sarah McLachlan', 'Logged In', 'Chloe', 'F', '19', 'Cuevas', '278.90893', 'paid', 'San Francisco-Oakland-Hayward, CA', 'PUT', 'NextSong', '1.54094E+12', '1114', 'Possession', '200', '1.5436E+12', '49']\n['Sonny Boy Williamson', 'Logged In', 'Rylan', 'M', '53', 'George', '152.24118', 'paid', 'Birmingham-Hoover, AL', 'PUT', 'NextSong', '1.54102E+12', '1076', \"Don't Start Me Talkin'\", '200', '1.5436E+12', '16']\n['Soul II Soul Featuring Caron Wheeler', 'Logged In', 'Rylan', 'M', '54', 'George', '225.2273', 'paid', 'Birmingham-Hoover, AL', 'PUT', 'NextSong', '1.54102E+12', '1076', 'Back To Life (However Do You Want Me) (2003 Digital Remaster) (Feat. Caron Wheeler)', '200', '1.5436E+12', '16']\n['Florence + The Machine', 'Logged In', 'Chloe', 'F', '20', 'Cuevas', '219.66322', 'paid', 'San Francisco-Oakland-Hayward, CA', 'PUT', 'NextSong', '1.54094E+12', '1114', 'Dog Days Are Over (Radio Edit)', '200', '1.5436E+12', '49']\n['Pantera', 'Logged In', 'Rylan', 'M', '55', 'George', '286.69342', 'paid', 'Birmingham-Hoover, AL', 'PUT', 'NextSong', '1.54102E+12', '1076', 'Heresy  (LP Version)', '200', '1.5436E+12', '16']\n['', 'Logged In', 'Rylan', 'M', '56', 'George', '', 'paid', 'Birmingham-Hoover, AL', 'GET', 'Help', '1.54102E+12', '1076', '', '200', '1.5436E+12', '16']\n['Cold', 'Logged In', 'Chloe', 'F', '21', 'Cuevas', '177.76281', 'paid', 'San Francisco-Oakland-Hayward, CA', 'PUT', 'NextSong', '1.54094E+12', '1114', 'Remedy', '200', '1.5436E+12', '49']\n['Norther', 'Logged In', 'Chloe', 'F', '22', 'Cuevas', '246.54322', 'paid', 'San Francisco-Oakland-Hayward, CA', 'PUT', 'NextSong', '1.54094E+12', '1114', 'Frozen Angel', '200', '1.5436E+12', '49']\n['Foo Fighters', 'Logged In', 'Rylan', 'M', '57', 'George', '271.38567', 'paid', 'Birmingham-Hoover, AL', 'PUT', 'NextSong', '1.54102E+12', '1076', 'The Pretender', '200', '1.5436E+12', '16']\n['Timbiriche', 'Logged In', 'Rylan', 'M', '58', 'George', '202.60526', 'paid', 'Birmingham-Hoover, AL', 'PUT', 'NextSong', '1.54102E+12', '1076', 'Besos De Ceniza', '200', '1.5436E+12', '16']\n['A Perfect Circle', 'Logged In', 'Rylan', 'M', '59', 'George', '206.05342', 'paid', 'Birmingham-Hoover, AL', 'PUT', 'NextSong', '1.54102E+12', '1076', 'Rose', '200', '1.5436E+12', '16']\n['Anberlin', 'Logged In', 'Rylan', 'M', '60', 'George', '348.682', 'paid', 'Birmingham-Hoover, AL', 'PUT', 'NextSong', '1.54102E+12', '1076', 'The Haunting', '200', '1.5436E+12', '16']\n['', 'Logged In', 'Rylan', 'M', '61', 'George', '', 'paid', 'Birmingham-Hoover, AL', 'GET', 'Downgrade', '1.54102E+12', '1076', '', '200', '1.5436E+12', '16']\n['Deas Vail', 'Logged In', 'Elijah', 'M', '0', 'Davis', '237.68771', 'free', 'Detroit-Warren-Dearborn, MI', 'PUT', 'NextSong', '1.54077E+12', '985', 'Anything You Say (Unreleased Version)', '200', '1.54361E+12', '5']\n"
    }
   ],
   "source": [
    "# initiating an empty list of rows that will be generated from each file\n",
    "full_data_rows_list = [] \n",
    "    \n",
    "# for every filepath in the file path list \n",
    "for f in file_path_list:\n",
    "\n",
    "# reading csv file \n",
    "    with open(f, 'r', encoding = 'utf8', newline='') as csvfile: \n",
    "        # creating a csv reader object \n",
    "        csvreader = csv.reader(csvfile) \n",
    "        next(csvreader)\n",
    "        \n",
    " # extracting each data row one by one and append it        \n",
    "        for line in csvreader:\n",
    "            print(line)\n",
    "            full_data_rows_list.append(line) \n",
    "            \n",
    "\n",
    "# creating a smaller event data csv file called event_datafile_full csv that will be used to insert data into the \\\n",
    "# Apache Cassandra tables\n",
    "csv.register_dialect('myDialect', quoting=csv.QUOTE_ALL, skipinitialspace=True)\n",
    "\n",
    "with open('event_datafile_new.csv', 'w', encoding = 'utf8', newline='') as f:\n",
    "    writer = csv.writer(f, dialect='myDialect')\n",
    "    writer.writerow(['artist','firstName','gender','itemInSession','lastName','length',\\\n",
    "                'level','location','sessionId','song','userId'])\n",
    "    for row in full_data_rows_list:\n",
    "        if (row[0] == ''):\n",
    "            continue\n",
    "        writer.writerow((row[0], row[2], row[3], row[4], row[5], row[6], row[7], row[8], row[12], row[13], row[16]))\n"
   ]
  },
  {
   "cell_type": "code",
   "execution_count": null,
   "metadata": {},
   "outputs": [],
   "source": []
  },
  {
   "cell_type": "code",
   "execution_count": 4,
   "metadata": {},
   "outputs": [
    {
     "name": "stdout",
     "output_type": "stream",
     "text": [
      "6821\n"
     ]
    }
   ],
   "source": [
    "# check the number of rows in your csv file\n",
    "with open('event_datafile_new.csv', 'r', encoding = 'utf8') as f:\n",
    "    print(sum(1 for line in f))"
   ]
  },
  {
   "cell_type": "markdown",
   "metadata": {},
   "source": [
    "# Part II. Complete the Apache Cassandra coding portion of your project. \n",
    "\n",
    "## Now you are ready to work with the CSV file titled <font color=red>event_datafile_new.csv</font>, located within the Workspace directory.  The event_datafile_new.csv contains the following columns: \n",
    "- artist \n",
    "- firstName of user\n",
    "- gender of user\n",
    "- item number in session\n",
    "- last name of user\n",
    "- length of the song\n",
    "- level (paid or free song)\n",
    "- location of the user\n",
    "- sessionId\n",
    "- song title\n",
    "- userId\n",
    "\n",
    "The image below is a screenshot of what the denormalized data should appear like in the <font color=red>**event_datafile_new.csv**</font> after the code above is run:<br>\n",
    "\n",
    "<img src=\"images/image_event_datafile_new.jpg\">"
   ]
  },
  {
   "cell_type": "markdown",
   "metadata": {},
   "source": [
    "## Begin writing your Apache Cassandra code in the cells below"
   ]
  },
  {
   "cell_type": "markdown",
   "metadata": {},
   "source": [
    "#### Creating a Cluster"
   ]
  },
  {
   "cell_type": "code",
   "execution_count": 5,
   "metadata": {},
   "outputs": [],
   "source": [
    "# This should make a connection to a Cassandra instance your local machine \n",
    "# (127.0.0.1)\n",
    "\n",
    "from cassandra.cluster import Cluster\n",
    "cluster = Cluster()\n",
    "\n",
    "# To establish connection and begin executing queries, need a session\n",
    "session = cluster.connect()"
   ]
  },
  {
   "cell_type": "markdown",
   "metadata": {},
   "source": [
    "#### Create Keyspace"
   ]
  },
  {
   "cell_type": "code",
   "execution_count": 6,
   "metadata": {},
   "outputs": [],
   "source": [
    "# Create a Keyspace\n",
    "try:\n",
    "    session.execute(\"\"\"\n",
    "    CREATE KEYSPACE IF NOT EXISTS udacity \n",
    "    WITH REPLICATION = \n",
    "    { 'class' : 'SimpleStrategy', 'replication_factor' : 1 }\"\"\"\n",
    ")\n",
    "\n",
    "except Exception as e:\n",
    "    print(e)"
   ]
  },
  {
   "cell_type": "markdown",
   "metadata": {},
   "source": [
    "#### Set Keyspace"
   ]
  },
  {
   "cell_type": "code",
   "execution_count": 7,
   "metadata": {},
   "outputs": [],
   "source": [
    "# Set KEYSPACE to the keyspace specified above\n",
    "try:\n",
    "    session.set_keyspace('udacity')\n",
    "except Exception as e:\n",
    "    print(e)"
   ]
  },
  {
   "cell_type": "code",
   "execution_count": 8,
   "metadata": {},
   "outputs": [],
   "source": [
    "def insert_data(file, session, query, indicies, dtypes):\n",
    "    '''\n",
    "    Creating pipeline to insert data into a Apache Cassandra table from CSV file.\n",
    "    args:\n",
    "        file(str): CSV file name\n",
    "        session(object): Apache Cassandra session\n",
    "        query(str): INSERT query statement \n",
    "        indicies(list): list of indicies to pass to INSERT statement\n",
    "        dtypes(list): list of data types to convert indices values\n",
    "    \n",
    "    return: \n",
    "        None      \n",
    "    '''\n",
    "    #check both are of same size else stop executing the rest and throw an error\n",
    "    assert(len(indicies) == len(dtypes))\n",
    "    with open(file, encoding = 'utf8') as f:\n",
    "        csvreader = csv.reader(f)\n",
    "        next(csvreader) # skip header\n",
    "        for line in csvreader:\n",
    "            session.execute(query, tuple(dtype(line[x]) for x, dtype in zip(indicies, dtypes)))"
   ]
  },
  {
   "cell_type": "markdown",
   "metadata": {},
   "source": [
    "## Create queries to ask the following three questions of the data"
   ]
  },
  {
   "cell_type": "markdown",
   "metadata": {},
   "source": [
    "### Query 1: Give me the artist, song title and song's length in the music app history that was heard during  sessionId = 338, and itemInSession  = 4"
   ]
  },
  {
   "cell_type": "code",
   "execution_count": 9,
   "metadata": {},
   "outputs": [],
   "source": [
    "# Create Table for Query 1\n",
    "query = \"CREATE TABLE IF NOT EXISTS song_playlist_item_session\"\n",
    "query = query + '''(session_id int, \n",
    "                    item_in_session int, \n",
    "                    artist text, \n",
    "                    length float, \n",
    "                    song text, \n",
    "                    PRIMARY KEY(session_id, item_in_session))'''\n",
    "\n",
    "try:\n",
    "    session.execute(query)\n",
    "except Exception as e:\n",
    "    print(e)                    "
   ]
  },
  {
   "cell_type": "markdown",
   "metadata": {},
   "source": [
    "#### Insert data into table song_playlist_item_sessioin"
   ]
  },
  {
   "cell_type": "code",
   "execution_count": 10,
   "metadata": {},
   "outputs": [],
   "source": [
    "file = 'event_datafile_new.csv'\n",
    "# Indices and dtypes for Query 1\n",
    "indicies = [8, 3, 0, 5, 9]\n",
    "dtypes = [int, int, str, float, str]\n",
    "\n",
    "# INSERT query statement\n",
    "query = \"INSERT INTO song_playlist_item_session(session_id, item_in_session, artist, length, song)\"\n",
    "query = query + \"VALUES(%s, %s, %s, %s,%s)\"\n",
    "\n",
    "# INSERT into the table\n",
    "insert_data(file, session, query, indicies, dtypes)"
   ]
  },
  {
   "cell_type": "markdown",
   "metadata": {},
   "source": [
    "#### Verify Query 1 - SELECT statement"
   ]
  },
  {
   "cell_type": "code",
   "execution_count": 11,
   "metadata": {},
   "outputs": [],
   "source": [
    "query = \"\"\"SELECT artist, length, song\n",
    "           FROM song_playlist_item_session\n",
    "           WHERE session_id = 338 AND item_in_session = 4\"\"\"\n",
    "\n",
    "try:\n",
    "    rows = session.execute(query)\n",
    "except Exception as e:\n",
    "    print(e)\n",
    "\n",
    "# collecting all rows in list as a tuple\n",
    "allRows = [] \n",
    "for row in rows:\n",
    "    allRows.append((row.artist, row.song,row.length))"
   ]
  },
  {
   "cell_type": "code",
   "execution_count": 12,
   "metadata": {},
   "outputs": [
    {
     "data": {
      "text/html": [
       "<div>\n",
       "<style scoped>\n",
       "    .dataframe tbody tr th:only-of-type {\n",
       "        vertical-align: middle;\n",
       "    }\n",
       "\n",
       "    .dataframe tbody tr th {\n",
       "        vertical-align: top;\n",
       "    }\n",
       "\n",
       "    .dataframe thead th {\n",
       "        text-align: right;\n",
       "    }\n",
       "</style>\n",
       "<table border=\"1\" class=\"dataframe\">\n",
       "  <thead>\n",
       "    <tr style=\"text-align: right;\">\n",
       "      <th></th>\n",
       "      <th>artist</th>\n",
       "      <th>song</th>\n",
       "      <th>length</th>\n",
       "    </tr>\n",
       "  </thead>\n",
       "  <tbody>\n",
       "    <tr>\n",
       "      <th>0</th>\n",
       "      <td>Faithless</td>\n",
       "      <td>Music Matters (Mark Knight Dub)</td>\n",
       "      <td>495.307312</td>\n",
       "    </tr>\n",
       "  </tbody>\n",
       "</table>\n",
       "</div>"
      ],
      "text/plain": [
       "      artist                             song      length\n",
       "0  Faithless  Music Matters (Mark Knight Dub)  495.307312"
      ]
     },
     "execution_count": 12,
     "metadata": {},
     "output_type": "execute_result"
    }
   ],
   "source": [
    "# Create dataFrame for the result query\n",
    "df = pd.DataFrame(allRows,columns=['artist','song','length'])\n",
    "# Print top 5 rows in the dataFrame\n",
    "df.head()"
   ]
  },
  {
   "cell_type": "markdown",
   "metadata": {},
   "source": [
    "### Query 2: Give me only the following: name of artist, song (sorted by itemInSession) and user (first and last name) for userid = 10, sessionid = 182"
   ]
  },
  {
   "cell_type": "code",
   "execution_count": 13,
   "metadata": {},
   "outputs": [],
   "source": [
    "# Create Table for Query 2\n",
    "query = \"CREATE TABLE IF NOT EXISTS song_playlist_session\"\n",
    "query = query + '''(user_id int,\n",
    "              session_id int, \n",
    "              item_in_session int,\n",
    "              artist text,\n",
    "              first_name text,\n",
    "              last_name text,\n",
    "              song text,\n",
    "            PRIMARY KEY((user_id, session_id), item_in_session))'''\n",
    "\n",
    "try:\n",
    "    session.execute(query)\n",
    "except Exception as e:\n",
    "    print(e) "
   ]
  },
  {
   "cell_type": "markdown",
   "metadata": {},
   "source": [
    "#### Insert data into table song_playlist_session"
   ]
  },
  {
   "cell_type": "code",
   "execution_count": 14,
   "metadata": {},
   "outputs": [],
   "source": [
    "# Indices and dtypes for Query 2\n",
    "indicies = [10, 8, 3, 0, 1, 4, 9]\n",
    "dtypes = [int, int, int, str, str,str, str]\n",
    "\n",
    "# INSERT query statement\n",
    "query = \"INSERT INTO song_playlist_session(user_id, session_id, item_in_session, artist, first_name,last_name, song)\"\n",
    "query = query + \"VALUES(%s, %s, %s, %s,%s, %s,%s)\"\n",
    "\n",
    "# INSERT into the table\n",
    "insert_data(file, session, query, indicies, dtypes)"
   ]
  },
  {
   "cell_type": "markdown",
   "metadata": {},
   "source": [
    "#### Verify Query 2 - SELECT statement"
   ]
  },
  {
   "cell_type": "code",
   "execution_count": 15,
   "metadata": {},
   "outputs": [],
   "source": [
    "query = '''SELECT artist, song, first_name, last_name\n",
    "           FROM song_playlist_session\n",
    "           WHERE user_id = 10 AND session_id = 182\n",
    "           order by item_in_session DESC'''\n",
    "\n",
    "try:\n",
    "    rows = session.execute(query)\n",
    "except Exception as e:\n",
    "    print(e)\n",
    "\n",
    "# collecting all rows in list as a tuple\n",
    "allRows = [] \n",
    "for row in rows:\n",
    "    allRows.append((row.artist, row.song,row.first_name, row.last_name))"
   ]
  },
  {
   "cell_type": "code",
   "execution_count": 16,
   "metadata": {},
   "outputs": [
    {
     "data": {
      "text/html": [
       "<div>\n",
       "<style scoped>\n",
       "    .dataframe tbody tr th:only-of-type {\n",
       "        vertical-align: middle;\n",
       "    }\n",
       "\n",
       "    .dataframe tbody tr th {\n",
       "        vertical-align: top;\n",
       "    }\n",
       "\n",
       "    .dataframe thead th {\n",
       "        text-align: right;\n",
       "    }\n",
       "</style>\n",
       "<table border=\"1\" class=\"dataframe\">\n",
       "  <thead>\n",
       "    <tr style=\"text-align: right;\">\n",
       "      <th></th>\n",
       "      <th>artist</th>\n",
       "      <th>song</th>\n",
       "      <th>first_name</th>\n",
       "      <th>last_name</th>\n",
       "    </tr>\n",
       "  </thead>\n",
       "  <tbody>\n",
       "    <tr>\n",
       "      <th>0</th>\n",
       "      <td>Lonnie Gordon</td>\n",
       "      <td>Catch You Baby (Steve Pitron &amp; Max Sanna Radio...</td>\n",
       "      <td>Sylvie</td>\n",
       "      <td>Cruz</td>\n",
       "    </tr>\n",
       "    <tr>\n",
       "      <th>1</th>\n",
       "      <td>Sebastien Tellier</td>\n",
       "      <td>Kilometer</td>\n",
       "      <td>Sylvie</td>\n",
       "      <td>Cruz</td>\n",
       "    </tr>\n",
       "    <tr>\n",
       "      <th>2</th>\n",
       "      <td>Three Drives</td>\n",
       "      <td>Greece 2000</td>\n",
       "      <td>Sylvie</td>\n",
       "      <td>Cruz</td>\n",
       "    </tr>\n",
       "    <tr>\n",
       "      <th>3</th>\n",
       "      <td>Down To The Bone</td>\n",
       "      <td>Keep On Keepin' On</td>\n",
       "      <td>Sylvie</td>\n",
       "      <td>Cruz</td>\n",
       "    </tr>\n",
       "  </tbody>\n",
       "</table>\n",
       "</div>"
      ],
      "text/plain": [
       "              artist                                               song  \\\n",
       "0      Lonnie Gordon  Catch You Baby (Steve Pitron & Max Sanna Radio...   \n",
       "1  Sebastien Tellier                                          Kilometer   \n",
       "2       Three Drives                                        Greece 2000   \n",
       "3   Down To The Bone                                 Keep On Keepin' On   \n",
       "\n",
       "  first_name last_name  \n",
       "0     Sylvie      Cruz  \n",
       "1     Sylvie      Cruz  \n",
       "2     Sylvie      Cruz  \n",
       "3     Sylvie      Cruz  "
      ]
     },
     "execution_count": 16,
     "metadata": {},
     "output_type": "execute_result"
    }
   ],
   "source": [
    "# Create dataFrame for the query result.\n",
    "df1 = pd.DataFrame(allRows,columns=['artist','song','first_name','last_name'])\n",
    "# print top 5 rows in the dataFrame\n",
    "df1.head()"
   ]
  },
  {
   "cell_type": "markdown",
   "metadata": {},
   "source": [
    "### Query 3: Give me every user name (first and last) in my music app history who listened to the song 'All Hands Against His Own'"
   ]
  },
  {
   "cell_type": "code",
   "execution_count": 17,
   "metadata": {},
   "outputs": [],
   "source": [
    "# Create Table for Query 3\n",
    "query = \"CREATE TABLE IF NOT EXISTS song_playlist_library\"\n",
    "query = query + '''(song text,\n",
    "                    user_id int,\n",
    "                    first_name text,\n",
    "                    last_name text,\n",
    "                    PRIMARY KEY(song, user_id))'''\n",
    "\n",
    "try:\n",
    "    session.execute(query)\n",
    "except Exception as e:\n",
    "    print(e) "
   ]
  },
  {
   "cell_type": "markdown",
   "metadata": {},
   "source": [
    "#### Insert data into table song_playlist_library"
   ]
  },
  {
   "cell_type": "code",
   "execution_count": 18,
   "metadata": {},
   "outputs": [],
   "source": [
    "# Indices and dtypes for Query 3\n",
    "indicies = [9, 10, 1, 4]\n",
    "dtypes = [str, int, str, str]\n",
    "\n",
    "# INSERT query statement\n",
    "query = \"INSERT INTO song_playlist_library(song, user_id, first_name, last_name)\"\n",
    "query = query + \"VALUES(%s,%s, %s, %s)\"\n",
    "\n",
    "# INSERT into the table\n",
    "insert_data(file, session, query, indicies, dtypes)"
   ]
  },
  {
   "cell_type": "markdown",
   "metadata": {},
   "source": [
    "#### Verify Query 3 - SELECT statement"
   ]
  },
  {
   "cell_type": "code",
   "execution_count": null,
   "metadata": {
    "scrolled": false
   },
   "outputs": [],
   "source": [
    "query = '''SELECT first_name, last_name\n",
    "           FROM song_playlist_library\n",
    "           WHERE song = 'All Hands Against His Own' '''\n",
    "\n",
    "try:\n",
    "    rows = session.execute(query)\n",
    "except Exception as e:\n",
    "    print(e)\n",
    "    \n",
    "# collecting all rows in list as a tuple\n",
    "allRows = []    \n",
    "for row in rows:\n",
    "    allRows.append((row.first_name, row.last_name))"
   ]
  },
  {
   "cell_type": "code",
   "execution_count": null,
   "metadata": {},
   "outputs": [],
   "source": [
    "# Create dataFrame for the result query\n",
    "df2 = pd.DataFrame(allRows,columns=['first_name','last_name'])\n",
    "# print top 5 rows in the dataFrame\n",
    "df2.head()"
   ]
  },
  {
   "cell_type": "markdown",
   "metadata": {},
   "source": [
    "### Drop the tables before closing out the sessions"
   ]
  },
  {
   "cell_type": "code",
   "execution_count": null,
   "metadata": {},
   "outputs": [],
   "source": [
    "def drop_table(table_names):\n",
    "    \n",
    "    '''\n",
    "    This function helps in drop the tables in the KEYSAPCE.\n",
    "    arg:\n",
    "        table_names(list): list of table names to drop in the KEYSPACE\n",
    "    return:\n",
    "        None\n",
    "    '''\n",
    "    for table in table_names:\n",
    "        query = \"DROP TABLE \"+table\n",
    "        try:\n",
    "            session.execute(query)\n",
    "        except Exception as e:\n",
    "            print(e)"
   ]
  },
  {
   "cell_type": "code",
   "execution_count": null,
   "metadata": {},
   "outputs": [],
   "source": [
    "# List of table names to drop\n",
    "table_names = ['song_playlist_item_session', 'song_playlist_session', 'song_playlist_library']\n",
    "\n",
    "# Drop tables\n",
    "drop_table(table_names)"
   ]
  },
  {
   "cell_type": "markdown",
   "metadata": {},
   "source": [
    "### Close the session and cluster connection¶"
   ]
  },
  {
   "cell_type": "code",
   "execution_count": null,
   "metadata": {},
   "outputs": [],
   "source": [
    "session.shutdown()\n",
    "cluster.shutdown()"
   ]
  }
 ],
 "metadata": {
  "kernelspec": {
   "display_name": "Python 3",
   "language": "python",
   "name": "python3"
  },
  "language_info": {
   "codemirror_mode": {
    "name": "ipython",
    "version": 3
   },
   "file_extension": ".py",
   "mimetype": "text/x-python",
   "name": "python",
   "nbconvert_exporter": "python",
   "pygments_lexer": "ipython3",
   "version": "3.7.4-final"
  }
 },
 "nbformat": 4,
 "nbformat_minor": 2
}